{
  "nbformat": 4,
  "nbformat_minor": 0,
  "metadata": {
    "colab": {
      "name": "Copy of Assignment2.ipynb",
      "provenance": [],
      "collapsed_sections": []
    },
    "kernelspec": {
      "name": "python3",
      "display_name": "Python 3"
    }
  },
  "cells": [
    {
      "cell_type": "markdown",
      "metadata": {
        "id": "hwTPfD-_mGwe"
      },
      "source": [
        "# Homework 2: Naive Bayes Email Spam Filter\n",
        "\n",
        "In this homework, we will learn how to implement the Naive Bayes classifier in order to create a simple email spam filter. This spam filter will be trained by test_emails, which will be given by a vector of tuples (emails, spam/nospam). For each tuple the first entry is a string (\"email\"), and the second entry is 0 or 1, depending whether the email contains spam words."
      ]
    },
    {
      "cell_type": "code",
      "metadata": {
        "id": "LcYY9uEZ8NNA"
      },
      "source": [
        "dictionary = ['hello', 'students', 'please', 'learn', 'for', 'the', 'exam', 'buy', 'drugs', 'today', 'sun', 'is', 'shining', 'in', 'nagoya', 'lets', 'sell', 'how', 'are', 'you', 'today?', 'do', 'your', 'homework', 'want', 'free', 'solutions?', 'hey', 'always', 'ask', 'questions', 'if','have', 'any', 'math', 'not', 'good', 'submit', 'pay'] \n",
        "\n",
        "test_emails=[\n",
        "             [\"hello students, please learn for the exam\", 0],\n",
        "             [\"hello students, please buy drugs\", 1],    \n",
        "             [\"hello, today the sun is shining in nagoya\", 0],\n",
        "             [\"lets sell drugs in nagoya\", 1],\n",
        "             [\"today learn drugs\", 1],\n",
        "             [\"how are you today?\", 0],\n",
        "             [\"hello students, please do your homework\", 0],\n",
        "             [\"hello, do you want free homework solutions?\", 1],\n",
        "             [\"hey students, please always ask questions if you have any\", 0],\n",
        "             [\"math is not good\", 1],\n",
        "             [\"math is good\", 0],\n",
        "             [\"please submit your homework\", 0],\n",
        "             [\"please buy questions\", 1],\n",
        "             [\"please pay for the exam\", 1]          \n",
        "             ]"
      ],
      "execution_count": 1,
      "outputs": []
    },
    {
      "cell_type": "markdown",
      "metadata": {
        "id": "-7_jFoKsHlXZ"
      },
      "source": [
        "The feature space for our spam filter will be $\\mathcal{X}=\\{0,1\\}^d$, where $d$ denotes the number of words in the dictionary. For a feature (email) $x \\in \\mathcal{X}$ the entry $x_i$ for $i=1,\\dots,d$ is $1$ if the $i$-th word of the dictionary is contained in the email and $0$ otherwise.  "
      ]
    },
    {
      "cell_type": "markdown",
      "metadata": {
        "id": "ihFEvEcCHI6y"
      },
      "source": [
        "# **Exercise 1**\n",
        "Implement a function which creates a feature vector out of an email and a function which creates a training set out of test emails. \n",
        "\n",
        "You would need to figure out whether a sentence contains a word, and there are functions in Python that could determine whether a string contains another string. You can consult documentation (and Google) to find out."
      ]
    },
    {
      "cell_type": "code",
      "metadata": {
        "id": "YcrE1LTy8mjy"
      },
      "source": [
        "import numpy as np\n",
        "def email_to_feature(dict0, email):\n",
        "  feature = np.zeros(len(dict0))\n",
        "  \n",
        "  i = 0\n",
        "  for word in dict0:\n",
        "    if(word in email.split(\" \")):\n",
        "      feature[i] = 1\n",
        "    i+=1\n",
        "\n",
        "  return feature\n",
        "\n",
        "def emails_to_test_samples(dict0, test_emails):\n",
        "  result = []\n",
        "  for email in test_emails:\n",
        "    result.append([email_to_feature(dict0, email[0]), email[1]])\n",
        "  return result"
      ],
      "execution_count": 168,
      "outputs": []
    },
    {
      "cell_type": "code",
      "metadata": {
        "colab": {
          "base_uri": "https://localhost:8080/"
        },
        "id": "pMMzoq1UklVK",
        "outputId": "30e5e821-874e-45f9-fb56-72f42ff94f24"
      },
      "source": [
        "email_to_feature(dictionary, \"pay\")\n",
        "emails_to_test_samples(dictionary, test_emails)"
      ],
      "execution_count": 169,
      "outputs": [
        {
          "output_type": "execute_result",
          "data": {
            "text/plain": [
              "[[array([1., 0., 1., 1., 1., 1., 1., 0., 0., 0., 0., 0., 0., 0., 0., 0., 0.,\n",
              "         0., 0., 0., 0., 0., 0., 0., 0., 0., 0., 0., 0., 0., 0., 0., 0., 0.,\n",
              "         0., 0., 0., 0., 0.]), 0],\n",
              " [array([1., 0., 1., 0., 0., 0., 0., 1., 1., 0., 0., 0., 0., 0., 0., 0., 0.,\n",
              "         0., 0., 0., 0., 0., 0., 0., 0., 0., 0., 0., 0., 0., 0., 0., 0., 0.,\n",
              "         0., 0., 0., 0., 0.]), 1],\n",
              " [array([0., 0., 0., 0., 0., 1., 0., 0., 0., 1., 1., 1., 1., 1., 1., 0., 0.,\n",
              "         0., 0., 0., 0., 0., 0., 0., 0., 0., 0., 0., 0., 0., 0., 0., 0., 0.,\n",
              "         0., 0., 0., 0., 0.]), 0],\n",
              " [array([0., 0., 0., 0., 0., 0., 0., 0., 1., 0., 0., 0., 0., 1., 1., 1., 1.,\n",
              "         0., 0., 0., 0., 0., 0., 0., 0., 0., 0., 0., 0., 0., 0., 0., 0., 0.,\n",
              "         0., 0., 0., 0., 0.]), 1],\n",
              " [array([0., 0., 0., 1., 0., 0., 0., 0., 1., 1., 0., 0., 0., 0., 0., 0., 0.,\n",
              "         0., 0., 0., 0., 0., 0., 0., 0., 0., 0., 0., 0., 0., 0., 0., 0., 0.,\n",
              "         0., 0., 0., 0., 0.]), 1],\n",
              " [array([0., 0., 0., 0., 0., 0., 0., 0., 0., 0., 0., 0., 0., 0., 0., 0., 0.,\n",
              "         1., 1., 1., 1., 0., 0., 0., 0., 0., 0., 0., 0., 0., 0., 0., 0., 0.,\n",
              "         0., 0., 0., 0., 0.]), 0],\n",
              " [array([1., 0., 1., 0., 0., 0., 0., 0., 0., 0., 0., 0., 0., 0., 0., 0., 0.,\n",
              "         0., 0., 0., 0., 1., 1., 1., 0., 0., 0., 0., 0., 0., 0., 0., 0., 0.,\n",
              "         0., 0., 0., 0., 0.]), 0],\n",
              " [array([0., 0., 0., 0., 0., 0., 0., 0., 0., 0., 0., 0., 0., 0., 0., 0., 0.,\n",
              "         0., 0., 1., 0., 1., 0., 1., 1., 1., 1., 0., 0., 0., 0., 0., 0., 0.,\n",
              "         0., 0., 0., 0., 0.]), 1],\n",
              " [array([0., 0., 1., 0., 0., 0., 0., 0., 0., 0., 0., 0., 0., 0., 0., 0., 0.,\n",
              "         0., 0., 1., 0., 0., 0., 0., 0., 0., 0., 1., 1., 1., 1., 1., 1., 1.,\n",
              "         0., 0., 0., 0., 0.]), 0],\n",
              " [array([0., 0., 0., 0., 0., 0., 0., 0., 0., 0., 0., 1., 0., 0., 0., 0., 0.,\n",
              "         0., 0., 0., 0., 0., 0., 0., 0., 0., 0., 0., 0., 0., 0., 0., 0., 0.,\n",
              "         1., 1., 1., 0., 0.]), 1],\n",
              " [array([0., 0., 0., 0., 0., 0., 0., 0., 0., 0., 0., 1., 0., 0., 0., 0., 0.,\n",
              "         0., 0., 0., 0., 0., 0., 0., 0., 0., 0., 0., 0., 0., 0., 0., 0., 0.,\n",
              "         1., 0., 1., 0., 0.]), 0],\n",
              " [array([0., 0., 1., 0., 0., 0., 0., 0., 0., 0., 0., 0., 0., 0., 0., 0., 0.,\n",
              "         0., 0., 0., 0., 0., 1., 1., 0., 0., 0., 0., 0., 0., 0., 0., 0., 0.,\n",
              "         0., 0., 0., 1., 0.]), 0],\n",
              " [array([0., 0., 1., 0., 0., 0., 0., 1., 0., 0., 0., 0., 0., 0., 0., 0., 0.,\n",
              "         0., 0., 0., 0., 0., 0., 0., 0., 0., 0., 0., 0., 0., 1., 0., 0., 0.,\n",
              "         0., 0., 0., 0., 0.]), 1],\n",
              " [array([0., 0., 1., 0., 1., 1., 1., 0., 0., 0., 0., 0., 0., 0., 0., 0., 0.,\n",
              "         0., 0., 0., 0., 0., 0., 0., 0., 0., 0., 0., 0., 0., 0., 0., 0., 0.,\n",
              "         0., 0., 0., 0., 1.]), 1]]"
            ]
          },
          "metadata": {
            "tags": []
          },
          "execution_count": 169
        }
      ]
    },
    {
      "cell_type": "markdown",
      "metadata": {
        "id": "Fn29mvvXklJ-"
      },
      "source": [
        ""
      ]
    },
    {
      "cell_type": "markdown",
      "metadata": {
        "id": "DzUtdPFZ_1vR"
      },
      "source": [
        " **Recall from Lecture 6:**\n",
        "\n",
        "Given a training set  $\\mathcal{T} = \\left( (x^{(1)}, y^{(1)}) , \\dots, (x^{(n)}, y^{(n)})   \\right)$ we calculate for $i=1,\\dots,d$ the following numbers\n",
        "\\begin{align*}\n",
        "\\phi_{i\\mid y=1} &= \\frac{1+\\sum_{j=1}^n I(x^{(j)}_i = 1  \\,\\wedge \\, y^{(j)}=1 ) }{2+\\sum_{j=1}^n I(y^{(j)}=1)}\\,,\\\\\n",
        "\t\\phi_{i\\mid y=0} &= \\frac{1+\\sum_{j=1}^n I(x^{(j)}_i = 1  \\,\\wedge \\, y^{(j)}=0 )}{2+\\sum_{j=1}^n I(y^{(j)}=0)}\\,,\\\\\n",
        "\t\t\\phi_{y=1} &= \\frac{1+\\sum_{j=1}^n I(y^{(j)} = 1)}{2+n} \\,.\n",
        "\\end{align*}\n",
        "Here $I$ denoted the indicator function. We used the laplace smoothing (thats why we have the $1+$ and $2+$) in order to make sure that we will not assume probability $0$ for unknown words.\n",
        "\n",
        "Now assume we get a new feature (i.e. someone sends us an email) $x \\in \\{0,1\\}^d$. Then we can calculate for each word $i=1,\\dots,d$ the probabilities\n",
        "\\begin{align*}\n",
        "P(x_i = 1 \\mid y=1) &= \\phi_{i\\mid y=1}\\,,\\qquad &&P(x_i = 1 \\mid y=0) = \\phi_{i\\mid y=0} \\,,\\\\\n",
        "P(x_i = 0 \\mid y=1) &= 1- \\phi_{i\\mid y=1}\\,,\\qquad &&P(x_i = 0 \\mid y=0) = 1-\\phi_{i\\mid y=0} \\,. \\\\\n",
        "\\end{align*}\n",
        "\n",
        "By the Naive Bayes assumption we have for $x \\in \\{0,1\\}^d$\n",
        "\\begin{align*}\n",
        "P(x \\mid y)  = \\prod_{i=1}^d P(x_j \\mid y)\\,.\n",
        "\\end{align*}\n",
        "The probability of the new email being spam is then\n",
        "\\begin{align*}\n",
        "P(y=1 \\mid x) &= \\frac{ P(x \\mid y=1) P(y=1)}{P(x)}\\\\\n",
        "&= \\frac{\\prod_{i=1}^d P(x_i \\mid y = 1) \\cdot \\phi_{y=1}}{\\prod_{i=1}^d P(x_i \\mid y = 1) \\cdot \\phi_{y=1} + \\prod_{i=1}^d P(x_i \\mid y = 0) (1-\\phi_{y=1})}\\,.\n",
        "\\end{align*}\n"
      ]
    },
    {
      "cell_type": "markdown",
      "metadata": {
        "id": "3KdBdWJQINbe"
      },
      "source": [
        "# **Exercise 2:** \n",
        "Use the above explanation of the Naive Bayes Spam filter and implement a function which gives the probability of an email being spam given the trainings email above. \n"
      ]
    },
    {
      "cell_type": "code",
      "metadata": {
        "id": "8Ry9w9OtOFBi"
      },
      "source": [
        "# You can implement the above algorithm in any way you want.\n",
        "# One possible way:\n",
        "# - Calculate the phis here\n",
        "# - Write functions for the probability P(x|y) depending on these phis\n",
        "# - Use this function in the function spam_percentage \n",
        "def laplace_smoothing(x, y):\n",
        "  return (1 + x) / (2 + y)\n",
        "\n",
        "def phi_probability_of_spam(training_set):\n",
        "  # \\phi_{y=1}\n",
        "\n",
        "  spam_sum = 0\n",
        "\n",
        "  for j in range(len(training_set)):\n",
        "    x = training_set[j][0]\n",
        "    y = training_set[j][1]\n",
        "\n",
        "    if (y == 1):\n",
        "      spam_sum += 1\n",
        "  \n",
        "  n = len(training_set)\n",
        "  return laplace_smoothing(spam_sum, n)\n",
        "\n",
        "  \n",
        "def phi_likelihood(training_set, word_index_i, isSpamCondition):\n",
        "  # \\phi_{i|y=1}\n",
        "\n",
        "  spam_contains_i_sum = 0\n",
        "  for j in range(len(training_set)):\n",
        "    x = training_set[j][0]\n",
        "    y = training_set[j][1]\n",
        "\n",
        "    if (x[word_index_i] == 1 and y == isSpamCondition):\n",
        "      spam_contains_i_sum += 1\n",
        "\n",
        "  \n",
        "  spam_sum = 0\n",
        "  for j in range(len(training_set)):\n",
        "    x = training_set[j][0]\n",
        "    y = training_set[j][1]\n",
        "\n",
        "    if (y == 1):\n",
        "      spam_sum += 1\n",
        "  \n",
        "  return laplace_smoothing(spam_contains_i_sum, 2+spam_sum)\n",
        "  \n",
        "def total_email_likelihood(training_set, dictionary, email, isSpamCondition):\n",
        "  feature = email_to_feature(dictionary,email)\n",
        "  product=1\n",
        "  for i in range(len(feature)):\n",
        "    if feature[i] == 0:\n",
        "      product *= (1 - phi_likelihood(training_set, i, isSpamCondition))\n",
        "    else:\n",
        "      product *= phi_likelihood(training_set, i, isSpamCondition)\n",
        "  return product\n",
        "\n",
        "def how_probable_is_email_spam(training_set, dictionary, email):\n",
        "  P_y1 = phi_probability_of_spam(training_set)\n",
        "  spam_likelihood = total_email_likelihood(training_set, dictionary, email, 1)\n",
        "  non_spam_likelihood = total_email_likelihood(training_set, dictionary, email, 0)\n",
        "  P_x = P_y1 * spam_likelihood + (1-P_y1)*non_spam_likelihood\n",
        "\n",
        "  return (P_y1 * spam_likelihood) / P_x\n",
        "\n",
        "\n",
        "def spam_percentage(email, dict0):\n",
        "  training_set = emails_to_test_samples(dict0,test_emails)\n",
        "  print(\"ratio of spam\", phi_probability_of_spam(training_set))\n",
        "  return how_probable_is_email_spam(training_set, dict0, email)"
      ],
      "execution_count": 187,
      "outputs": []
    },
    {
      "cell_type": "markdown",
      "metadata": {
        "id": "d2ABCIxrT11Z"
      },
      "source": [
        "Test your spam filter with the following email.\n"
      ]
    },
    {
      "cell_type": "code",
      "metadata": {
        "id": "Zo_egC7AUYoq",
        "colab": {
          "base_uri": "https://localhost:8080/"
        },
        "outputId": "91290aa3-a6fb-497c-ce10-2e7d31eb1845"
      },
      "source": [
        "email=\"the sun is shining. buy drugs now\"\n",
        "print(spam_percentage(email, dictionary))\n",
        "\n",
        "email=\"any homework submit sun nagoya\"\n",
        "print(spam_percentage(email, dictionary))"
      ],
      "execution_count": 188,
      "outputs": [
        {
          "output_type": "stream",
          "text": [
            "ratio of spam 0.5\n",
            "0.9168255831010708\n",
            "ratio of spam 0.5\n",
            "0.14950166112956814\n"
          ],
          "name": "stdout"
        }
      ]
    },
    {
      "cell_type": "markdown",
      "metadata": {
        "id": "82y_1mNLP6Lu"
      },
      "source": [
        "\n",
        "# **Exercise 3**\n",
        "Extend your spamfilter by creating a dynamical dictionary. Instead of starting with a fixed dictionary, you should now create a dictionary out of a list of emails. \n",
        "\n",
        "Write a function `create_dictionary(emails)` which returns a dictionary created from a list of emails (Give as an array of arrays `[text, spam\\nospam]`). Make sure that you do not include words more than once into the dictionary.\n",
        "To implement this function you should look up the function `split()` for a string in Python. To take care of the symbols \".\" and \",\" you can use the `replace()` function of a string."
      ]
    },
    {
      "cell_type": "code",
      "metadata": {
        "id": "1rvAqAkHz21D"
      },
      "source": [
        "def create_dictionary(emails):\n",
        "  word_list = []\n",
        "  myDict = []\n",
        "  for email in emails:\n",
        "    email[0] = email[0].replace(\",\", \"\")\n",
        "    email[0] = email[0].replace(\".\", \"\")\n",
        "    word_list.extend(email[0].split(\" \"))\n",
        "  \n",
        "  for word in word_list:\n",
        "    if word not in myDict:\n",
        "      myDict.append(word)\n",
        "\n",
        "  return myDict\n"
      ],
      "execution_count": 180,
      "outputs": []
    },
    {
      "cell_type": "code",
      "metadata": {
        "colab": {
          "base_uri": "https://localhost:8080/"
        },
        "id": "Cyj-C3bG39gz",
        "outputId": "5ea88220-4272-41df-e368-9a959aa945dc"
      },
      "source": [
        "create_dictionary(test_emails)"
      ],
      "execution_count": 181,
      "outputs": [
        {
          "output_type": "execute_result",
          "data": {
            "text/plain": [
              "['hello',\n",
              " 'students',\n",
              " 'please',\n",
              " 'learn',\n",
              " 'for',\n",
              " 'the',\n",
              " 'exam',\n",
              " 'buy',\n",
              " 'drugs',\n",
              " 'today',\n",
              " 'sun',\n",
              " 'is',\n",
              " 'shining',\n",
              " 'in',\n",
              " 'nagoya',\n",
              " 'lets',\n",
              " 'sell',\n",
              " 'how',\n",
              " 'are',\n",
              " 'you',\n",
              " 'today?',\n",
              " 'do',\n",
              " 'your',\n",
              " 'homework',\n",
              " 'want',\n",
              " 'free',\n",
              " 'solutions?',\n",
              " 'hey',\n",
              " 'always',\n",
              " 'ask',\n",
              " 'questions',\n",
              " 'if',\n",
              " 'have',\n",
              " 'any',\n",
              " 'math',\n",
              " 'not',\n",
              " 'good',\n",
              " 'submit',\n",
              " 'pay']"
            ]
          },
          "metadata": {
            "tags": []
          },
          "execution_count": 181
        }
      ]
    },
    {
      "cell_type": "code",
      "metadata": {
        "colab": {
          "base_uri": "https://localhost:8080/"
        },
        "id": "8P0ZhC5O40CR",
        "outputId": "1af969ea-1e9d-476d-a647-09705f772a07"
      },
      "source": [
        "myDict = create_dictionary(test_emails)\n",
        "email=\"any homework submit sun nagoya\"\n",
        "\n",
        "print(email, spam_percentage(email,myDict))"
      ],
      "execution_count": 186,
      "outputs": [
        {
          "output_type": "stream",
          "text": [
            "ratio of spam 0.5\n",
            "any homework submit sun nagoya 0.14950166112956814\n"
          ],
          "name": "stdout"
        }
      ]
    }
  ]
}